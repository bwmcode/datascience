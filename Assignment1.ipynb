{
 "cells": [
  {
   "cell_type": "markdown",
   "id": "6f28aa3e",
   "metadata": {},
   "source": [
    "    Write a function count_vowels(word) that takes a word as an argument and returns the number of vowels in the word"
   ]
  },
  {
   "cell_type": "code",
   "execution_count": 18,
   "id": "28bc314f",
   "metadata": {},
   "outputs": [
    {
     "data": {
      "text/plain": [
       "2"
      ]
     },
     "execution_count": 18,
     "metadata": {},
     "output_type": "execute_result"
    }
   ],
   "source": [
    "def count_vowels(word):\n",
    "    letters = list(word)\n",
    "    vowels = set(['a','e','i','o','u'])\n",
    "    vowel_count = sum([1 for i in letters if vowels.intersection(i)!=set()])\n",
    "    return vowel_count\n",
    "    \n",
    "count_vowels('poop')"
   ]
  },
  {
   "cell_type": "markdown",
   "id": "056b2dc1",
   "metadata": {},
   "source": [
    "    Iterate through the following list of animals and print each one in all caps."
   ]
  },
  {
   "cell_type": "code",
   "execution_count": 29,
   "id": "a014ccac",
   "metadata": {},
   "outputs": [
    {
     "name": "stdout",
     "output_type": "stream",
     "text": [
      "Tiger\n",
      "Elephant\n",
      "Monkey\n",
      "Zebra\n",
      "Panther\n"
     ]
    }
   ],
   "source": [
    "animals=['tiger', 'elephant', 'monkey', 'zebra', 'panther']\n",
    "for item in animals:\n",
    "    item = item[0].upper()+item[1:]\n",
    "    print(item)"
   ]
  },
  {
   "cell_type": "markdown",
   "id": "3668a16e",
   "metadata": {},
   "source": [
    "    Write a program that iterates from 1 to 20, printing each number and whether it's odd or even.\n",
    "    "
   ]
  },
  {
   "cell_type": "code",
   "execution_count": 30,
   "id": "83e06bdb",
   "metadata": {},
   "outputs": [
    {
     "name": "stdout",
     "output_type": "stream",
     "text": [
      "0  even\n",
      "1 odd\n",
      "2  even\n",
      "3 odd\n",
      "4  even\n",
      "5 odd\n",
      "6  even\n",
      "7 odd\n",
      "8  even\n",
      "9 odd\n",
      "10  even\n",
      "11 odd\n",
      "12  even\n",
      "13 odd\n",
      "14  even\n",
      "15 odd\n",
      "16  even\n",
      "17 odd\n",
      "18  even\n",
      "19 odd\n",
      "20  even\n"
     ]
    }
   ],
   "source": [
    "for i in range(21):\n",
    "    if i%2 ==0:\n",
    "        print(i, \" even\")\n",
    "    else:\n",
    "        print(i, \"odd\")"
   ]
  },
  {
   "cell_type": "markdown",
   "id": "2f834d26",
   "metadata": {},
   "source": [
    "    Write a function sum_of_integers(a, b) that takes two integers as input from the user and returns their sum."
   ]
  },
  {
   "cell_type": "code",
   "execution_count": null,
   "id": "d2ef09a8",
   "metadata": {},
   "outputs": [],
   "source": []
  },
  {
   "cell_type": "code",
   "execution_count": null,
   "id": "e9982651",
   "metadata": {},
   "outputs": [],
   "source": []
  }
 ],
 "metadata": {
  "kernelspec": {
   "display_name": "Python 3 (ipykernel)",
   "language": "python",
   "name": "python3"
  },
  "language_info": {
   "codemirror_mode": {
    "name": "ipython",
    "version": 3
   },
   "file_extension": ".py",
   "mimetype": "text/x-python",
   "name": "python",
   "nbconvert_exporter": "python",
   "pygments_lexer": "ipython3",
   "version": "3.9.10"
  }
 },
 "nbformat": 4,
 "nbformat_minor": 5
}
