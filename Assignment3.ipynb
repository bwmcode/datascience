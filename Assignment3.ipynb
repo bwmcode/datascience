{
 "cells": [
  {
   "cell_type": "markdown",
   "id": "3f3ca224",
   "metadata": {},
   "source": [
    "    Define two custom numpy arrays, say A and B. Generate two new numpy arrays by stacking A and B vertically and horizontally.\n",
    "    "
   ]
  },
  {
   "cell_type": "code",
   "execution_count": 15,
   "id": "2a2732f5",
   "metadata": {},
   "outputs": [
    {
     "data": {
      "text/plain": [
       "array([[11,  2,  3],\n",
       "       [15, 13,  4],\n",
       "       [ 1,  2,  3],\n",
       "       [ 3,  2,  1]])"
      ]
     },
     "execution_count": 15,
     "metadata": {},
     "output_type": "execute_result"
    }
   ],
   "source": [
    "import numpy as np\n",
    "\n",
    "A = np.array([[11, 2,3 ], [15, 13, 4]])\n",
    "B = np.array([[1, 2, 3],[3,2,1]])\n",
    "vert = np.concatenate([A,B],axis = 0)\n",
    "vert"
   ]
  },
  {
   "cell_type": "markdown",
   "id": "f55a4bc4",
   "metadata": {},
   "source": [
    "   \n",
    "    Find common elements between A and B. [Hint : Intersection of two sets]"
   ]
  },
  {
   "cell_type": "code",
   "execution_count": 35,
   "id": "dd916fec",
   "metadata": {},
   "outputs": [
    {
     "data": {
      "text/plain": [
       "{2, 3}"
      ]
     },
     "execution_count": 35,
     "metadata": {},
     "output_type": "execute_result"
    }
   ],
   "source": [
    "set(A.flatten()).intersection(set(B.flatten()))\n"
   ]
  },
  {
   "cell_type": "markdown",
   "id": "bfef8129",
   "metadata": {},
   "source": [
    "    Extract all numbers from A which are within a specific range. eg between 5 and 10. [Hint: np.where() might be useful or boolean masks]"
   ]
  },
  {
   "cell_type": "code",
   "execution_count": 48,
   "id": "7ebd0e2a",
   "metadata": {},
   "outputs": [
    {
     "data": {
      "text/plain": [
       "array([2, 3, 4])"
      ]
     },
     "execution_count": 48,
     "metadata": {},
     "output_type": "execute_result"
    }
   ],
   "source": [
    "lower = 1\n",
    "upper = 10\n",
    "\n",
    "A0 = A[np.where(A>lower)]\n",
    "A0[np.where(A0<upper)]"
   ]
  },
  {
   "cell_type": "markdown",
   "id": "4192a757",
   "metadata": {},
   "source": [
    "    Filter the rows of iris_2d that has petallength (3rd column) > 1.5 and sepallength (1st column) < 5.0"
   ]
  },
  {
   "cell_type": "code",
   "execution_count": 49,
   "id": "1fb088e6",
   "metadata": {},
   "outputs": [],
   "source": [
    "url = 'https://archive.ics.uci.edu/ml/machine-learning-databases/iris/iris.data'\n",
    "iris_2d = np.genfromtxt(url, delimiter=',', dtype='float', usecols=[0,1,2,3])"
   ]
  },
  {
   "cell_type": "markdown",
   "id": "8df5e3a2",
   "metadata": {},
   "source": []
  },
  {
   "cell_type": "code",
   "execution_count": 9,
   "id": "ae5e94b1",
   "metadata": {},
   "outputs": [
    {
     "data": {
      "text/plain": [
       "array([[1, 2, 3, 1, 2, 3],\n",
       "       [5, 3, 4, 3, 2, 1]])"
      ]
     },
     "execution_count": 9,
     "metadata": {},
     "output_type": "execute_result"
    }
   ],
   "source": [
    "\n",
    "horz = np.concatenate([A,B],axis =1)\n",
    "horz"
   ]
  },
  {
   "cell_type": "markdown",
   "id": "33ba500d",
   "metadata": {},
   "source": [
    "\n",
    "Practice Questions for Pandas\n",
    "\n",
    "    From df filter the 'Manufacturer', 'Model' and 'Type' for every 20th row starting from 1st (row 0).\n",
    "\n",
    "df = pd.read_csv('https://raw.githubusercontent.com/selva86/datasets/master/Cars93_miss.csv')\n",
    "\n",
    "    Replace missing values in Min.Price and Max.Price columns with their respective mean.\n",
    "\n",
    "df = pd.read_csv('https://raw.githubusercontent.com/selva86/datasets/master/Cars93_miss.csv')\n",
    "\n",
    "    How to get the rows of a dataframe with row sum > 100?\n",
    "\n",
    "df = pd.DataFrame(np.random.randint(10, 40, 60).reshape(-1, 4))\n",
    "\n"
   ]
  },
  {
   "cell_type": "code",
   "execution_count": 2,
   "id": "9b8c1f68",
   "metadata": {},
   "outputs": [],
   "source": [
    "import pandas as pd\n",
    "df = pd.read_csv('https://raw.githubusercontent.com/selva86/datasets/master/Cars93_miss.csv')"
   ]
  },
  {
   "cell_type": "code",
   "execution_count": null,
   "id": "2ddab2de",
   "metadata": {},
   "outputs": [],
   "source": []
  }
 ],
 "metadata": {
  "kernelspec": {
   "display_name": "Python 3 (ipykernel)",
   "language": "python",
   "name": "python3"
  },
  "language_info": {
   "codemirror_mode": {
    "name": "ipython",
    "version": 3
   },
   "file_extension": ".py",
   "mimetype": "text/x-python",
   "name": "python",
   "nbconvert_exporter": "python",
   "pygments_lexer": "ipython3",
   "version": "3.9.10"
  }
 },
 "nbformat": 4,
 "nbformat_minor": 5
}

